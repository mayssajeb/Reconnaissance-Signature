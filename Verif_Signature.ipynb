{
  "nbformat": 4,
  "nbformat_minor": 0,
  "metadata": {
    "colab": {
      "name": "Verif_Signature.ipynb",
      "version": "0.3.2",
      "provenance": [],
      "include_colab_link": true
    },
    "kernelspec": {
      "name": "python3",
      "display_name": "Python 3"
    }
  },
  "cells": [
    {
      "cell_type": "markdown",
      "metadata": {
        "id": "view-in-github",
        "colab_type": "text"
      },
      "source": [
        "<a href=\"https://colab.research.google.com/github/mayssajeb/Reconnaissance-Signature/blob/master/Verif_Signature.ipynb\" target=\"_parent\"><img src=\"https://colab.research.google.com/assets/colab-badge.svg\" alt=\"Open In Colab\"/></a>"
      ]
    },
    {
      "cell_type": "markdown",
      "metadata": {
        "id": "1Jf5ha3x2kyT",
        "colab_type": "text"
      },
      "source": [
        "\n",
        "### **Vérification Signature Manuscrite avec le deep Learning (CNN)**"
      ]
    },
    {
      "cell_type": "code",
      "metadata": {
        "id": "rpPd-ii2LDQS",
        "colab_type": "code",
        "outputId": "a31293a1-09c3-4f44-f958-1d70e7cc362e",
        "colab": {
          "base_uri": "https://localhost:8080/",
          "height": 33
        }
      },
      "source": [
        "# Load the Drive helper and mount\n",
        "from google.colab import drive\n",
        "\n",
        "# This will prompt for authorization.\n",
        "drive.mount('/content/drive')"
      ],
      "execution_count": 0,
      "outputs": [
        {
          "output_type": "stream",
          "text": [
            "Mounted at /content/drive\n"
          ],
          "name": "stdout"
        }
      ]
    },
    {
      "cell_type": "code",
      "metadata": {
        "id": "Q1lzl-wDN5pc",
        "colab_type": "code",
        "outputId": "3c7b93fe-86e4-49da-c7ee-8e0570effef4",
        "colab": {
          "base_uri": "https://localhost:8080/",
          "height": 234
        }
      },
      "source": [
        "# After executing the cell above, Drive\n",
        "# files will be present in \"/content/drive/My Drive\".\n",
        "!ls \"/content/drive/My Drive/Stage_Wevioo_VérififcationSignature/Stage_Wevioo/BHSig260 - Copie/Hindi\""
      ],
      "execution_count": 0,
      "outputs": [
        {
          "output_type": "stream",
          "text": [
            "001  014  027  040  053  066  107  120\t134  147  160\n",
            "002  015  028  041  054  067  108  121\t135  148  Hindi_pairs.txt\n",
            "003  016  029  042  055  068  109  122\t136  149  list.forgery\n",
            "004  017  030  043  056  069  110  123\t137  150  list.genuine\n",
            "005  018  031  044  057  070  111  124\t138  151  TestVerif.ipynb\n",
            "006  019  032  045  058  071  112  125\t139  152\n",
            "007  020  033  046  059  098  113  127\t140  153\n",
            "008  021  034  047  060  099  114  128\t141  154\n",
            "009  022  035  048  061  100  115  129\t142  155\n",
            "010  023  036  049  062  103  116  130\t143  156\n",
            "011  024  037  050  063  104  117  131\t144  157\n",
            "012  025  038  051  064  105  118  132\t145  158\n",
            "013  026  039  052  065  106  119  133\t146  159\n"
          ],
          "name": "stdout"
        }
      ]
    },
    {
      "cell_type": "code",
      "metadata": {
        "id": "e9FtIIU5Z6Ba",
        "colab_type": "code",
        "colab": {}
      },
      "source": [
        "import torch\n",
        "import numpy as np\n",
        "from torchvision import transforms, models, datasets"
      ],
      "execution_count": 0,
      "outputs": []
    },
    {
      "cell_type": "code",
      "metadata": {
        "id": "S6el1RtUZ6fQ",
        "colab_type": "code",
        "colab": {}
      },
      "source": [
        "#Comment 0: define transformation that you wish to apply on image\n",
        "data_transforms = transforms.Compose([\n",
        "                    transforms.CenterCrop(224),\n",
        "                    transforms.ToTensor()])"
      ],
      "execution_count": 0,
      "outputs": []
    },
    {
      "cell_type": "code",
      "metadata": {
        "id": "ATySAFgHdIWz",
        "colab_type": "code",
        "colab": {}
      },
      "source": [
        "# Comment 1 : Load the datasets with ImageFolder\n",
        "image_datasets = datasets.ImageFolder(root= \"/content/drive/My Drive/Stage_Wevioo_VérififcationSignature/Stage_Wevioo/BHSig260 - Copie/Hindi\", transform=data_transforms)"
      ],
      "execution_count": 0,
      "outputs": []
    },
    {
      "cell_type": "code",
      "metadata": {
        "id": "c6XnNdcgep0T",
        "colab_type": "code",
        "colab": {}
      },
      "source": [
        "#Comment 2: Using the image datasets and the trainforms, define the dataloaders\n",
        "dataloaders = torch.utils.data.DataLoader(image_datasets, batch_size=32, shuffle=True, num_workers=2)"
      ],
      "execution_count": 0,
      "outputs": []
    },
    {
      "cell_type": "code",
      "metadata": {
        "id": "jLyLlwkegkOL",
        "colab_type": "code",
        "colab": {}
      },
      "source": [
        "import matplotlib.pyplot as plt\n",
        "%matplotlib inline"
      ],
      "execution_count": 0,
      "outputs": []
    },
    {
      "cell_type": "code",
      "metadata": {
        "id": "7xTbeU9Pgooh",
        "colab_type": "code",
        "colab": {}
      },
      "source": [
        "# helper function to un-normalize and display an image\n",
        "def imshow(img):\n",
        "    img = img / 2 + 0.5  # unnormalize\n",
        "    plt.imshow(np.transpose(img, (1, 2, 0)))  # convert from Tensor image\n",
        "\n",
        "\n",
        "dataiter = iter(dataloaders)\n",
        "images, labels = dataiter.next()\n",
        "images = images.numpy() # convert images to numpy for display"
      ],
      "execution_count": 0,
      "outputs": []
    },
    {
      "cell_type": "code",
      "metadata": {
        "id": "2P6nPoXNgwyQ",
        "colab_type": "code",
        "outputId": "471f2050-a32e-442d-d3ac-1ce871600d38",
        "colab": {
          "base_uri": "https://localhost:8080/",
          "height": 274
        }
      },
      "source": [
        "# plot the images in the batch, along with the corresponding labels\n",
        "fig = plt.figure(figsize=(25, 4))\n",
        "# display 20 images\n",
        "for idx in np.arange(20):\n",
        "    ax = fig.add_subplot(2, 20/2, idx+1, xticks=[], yticks=[])\n",
        "    imshow(images[idx])"
      ],
      "execution_count": 0,
      "outputs": [
        {
          "output_type": "display_data",
          "data": {
            "image/png": "[encoded data removed]",
            "text/plain": [
              "<Figure size 1800x288 with 20 Axes>"
            ]
          },
          "metadata": {
            "tags": []
          }
        }
      ]
    },
    {
      "cell_type": "code",
      "metadata": {
        "id": "u1mvwvfUg_pA",
        "colab_type": "code",
        "outputId": "7fc0ccfc-bf8a-4d8b-c48e-73299466d6ba",
        "colab": {
          "base_uri": "https://localhost:8080/",
          "height": 33
        }
      },
      "source": [
        "import pickle\n",
        "import os\n",
        "import matplotlib.pyplot as plt\n",
        "%matplotlib inline\n",
        "\n",
        "import cv2\n",
        "import time\n",
        "import itertools\n",
        "import random\n",
        "\n",
        "from sklearn.utils import shuffle\n",
        "\n",
        "import tensorflow as tf\n",
        "from keras.models import Sequential\n",
        "from keras.optimizers import Adam, RMSprop\n",
        "from keras.layers import Conv2D, ZeroPadding2D, Activation, Input, concatenate, Dropout\n",
        "from keras.models import Model\n",
        "from keras.layers.normalization import BatchNormalization\n",
        "from keras.layers.pooling import MaxPooling2D\n",
        "from keras.layers.merge import Concatenate\n",
        "from keras.layers.core import Lambda, Flatten, Dense\n",
        "from keras.initializers import glorot_uniform\n",
        "\n",
        "from keras.engine.topology import Layer\n",
        "from keras.regularizers import l2\n",
        "from keras import backend as K\n",
        "from keras.callbacks import EarlyStopping, ModelCheckpoint, ReduceLROnPlateau"
      ],
      "execution_count": 0,
      "outputs": [
        {
          "output_type": "stream",
          "text": [
            "Using TensorFlow backend.\n"
          ],
          "name": "stderr"
        }
      ]
    },
    {
      "cell_type": "code",
      "metadata": {
        "id": "0b-dxRssy9L9",
        "colab_type": "code",
        "colab": {}
      },
      "source": [
        ""
      ],
      "execution_count": 0,
      "outputs": []
    }
  ]
}